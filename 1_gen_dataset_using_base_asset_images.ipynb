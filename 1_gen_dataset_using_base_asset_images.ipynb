{
 "cells": [
  {
   "cell_type": "code",
   "execution_count": 1,
   "id": "ff496cfd-93ae-4ea5-bd62-eb4c14c38bd1",
   "metadata": {},
   "outputs": [],
   "source": [
    "from PIL import Image\n",
    "import random\n",
    "import os"
   ]
  },
  {
   "cell_type": "markdown",
   "id": "475d9e5a-3698-43ec-973d-d7c6302b6a2f",
   "metadata": {},
   "source": [
    "### Setting variables\n",
    "\n",
    "- base_image_base_dir : game screenshots dir\n",
    "- asset_image_base_dir : game asset images dir\n",
    "- result_base_dir : `base images` * `asset images` + `txt file which have YOLO format coordinates`\n",
    "- resolution : game screenshot resolution"
   ]
  },
  {
   "cell_type": "code",
   "execution_count": 7,
   "id": "47d6c205-7cff-4229-9b44-b7b920f2ffef",
   "metadata": {},
   "outputs": [],
   "source": [
    "base_image_base_dir = r\"data\\raw_images\\base\"\n",
    "asset_image_base_dir = r\"data\\raw_images\\asset\"\n",
    "result_base_dir = r\"data\\learng_data\"\n",
    "\n",
    "base_images = os.listdir(base_image_base_dir)\n",
    "asset_images = os.listdir(asset_image_base_dir)\n",
    "\n",
    "resolution = (1920, 1080)"
   ]
  },
  {
   "cell_type": "code",
   "execution_count": 8,
   "id": "afa9dfc6-b310-4273-aeca-cb86332ca5b5",
   "metadata": {},
   "outputs": [],
   "source": [
    "class ImageCoord():\n",
    "    def __init__(self, x, y, w, h, cls = 0):\n",
    "        self.x = x\n",
    "        self.y = y\n",
    "        self.w = w\n",
    "        self.h = h\n",
    "        self.x2 = self.x + self.w\n",
    "        self.y2 = self.y + self.h\n",
    "        self.cls = cls\n",
    "        \n",
    "    def __str__(self):\n",
    "        return f\"{self.x}, {self.y}, {self.w}, {self.h}\"\n",
    "\n",
    "    def get_VOLO_format(self):\n",
    "        return f\"{self.cls} {(self.x + (self.w / 2)) / resolution[0]:.6f} {(self.y + (self.h / 2))/resolution[1]:.6f} {self.w/resolution[0]:.6f} {self.h/resolution[1]:.6f}\"\n",
    "\n",
    "    def is_inside_rect(self, x, y):\n",
    "        if self.x <= x <= self.x+self.w and self.y <= y <= self.y+self.h:\n",
    "            return True\n",
    "        else:\n",
    "            return False\n",
    "\n",
    "    def is_overlap(self, coord):\n",
    "        if self.is_inside_rect(coord.x, coord.y) or \\\n",
    "        self.is_inside_rect(coord.x, coord.y2) or \\\n",
    "        self.is_inside_rect(coord.x2, coord.y) or \\\n",
    "        self.is_inside_rect(coord.x2, coord.y2) or \\\n",
    "        coord.is_inside_rect(self.x, self.y) or \\\n",
    "        coord.is_inside_rect(self.x, self.y2) or \\\n",
    "        coord.is_inside_rect(self.x2, self.y) or \\\n",
    "        coord.is_inside_rect(self.x2, self.y2):\n",
    "            return True\n",
    "        else:\n",
    "            return False\n",
    "           "
   ]
  },
  {
   "cell_type": "markdown",
   "id": "70753844-9dfe-4a0e-80e7-1d6b2bfd1777",
   "metadata": {},
   "source": [
    "### Make labels.txt\n",
    "\n",
    "- Using game asset images's file name, generate `labels.txt`\n",
    "\n",
    "- ex) If there are `A.png`, `B.png`, `C.png` in the `raw_images/asset`, a `labels.txt` file is created with \"A\", \"B\", \"C\" on each line."
   ]
  },
  {
   "cell_type": "code",
   "execution_count": 9,
   "id": "4b621095-eda3-4709-9661-9aef699f0d2c",
   "metadata": {},
   "outputs": [],
   "source": [
    "def create_labels_txt():\n",
    "    with open(os.path.join(result_base_dir, \"labels.txt\"), \"w\") as f:\n",
    "        for image in asset_images:\n",
    "            f.write(image.split(\".\")[0])\n",
    "            f.write(\"\\n\")\n",
    "\n",
    "create_labels_txt()"
   ]
  },
  {
   "cell_type": "markdown",
   "id": "f06b5fc3-ff97-4b5e-9898-98646c60727b",
   "metadata": {},
   "source": [
    "### Make `generated images`\n",
    "\n",
    "#### - Using `game asset images` and `base images`, make `generated images`"
   ]
  },
  {
   "cell_type": "code",
   "execution_count": 10,
   "id": "18e2c3da-5256-4328-ac57-d38c5fa6c749",
   "metadata": {},
   "outputs": [],
   "source": [
    "for loop in range(5):\n",
    "    for base_image in base_images:\n",
    "        inserted_image_coord = []\n",
    "        image_a_path = os.path.join(base_image_base_dir, base_image)\n",
    "        image_a = Image.open(image_a_path)\n",
    "        a_width, a_height = image_a.size\n",
    "\n",
    "        \n",
    "        for i, asset_image in enumerate(asset_images):\n",
    "            image_b_path = os.path.join(asset_image_base_dir, asset_image)\n",
    "            image_b = Image.open(image_b_path)\n",
    "            b_width, b_height = image_b.size\n",
    "    \n",
    "            x_max = a_width - b_width\n",
    "            y_max = a_height - b_height\n",
    "            \n",
    "            if x_max < 0 or y_max < 0:\n",
    "                raise ValueError(\"B.png가 A.png보다 커서 삽입할 수 없습니다!\")\n",
    "    \n",
    "            cnt = 0\n",
    "            fail_cnt = 0\n",
    "            fail_cnt_threshold = 10\n",
    "            asset_cnt = random.randint(0, 10)\n",
    "            while cnt < asset_cnt:\n",
    "                # 랜덤 좌표 생성\n",
    "                x1 = random.randint(0, x_max)\n",
    "                y1 = random.randint(0, y_max)\n",
    "                x2 = x1+b_width\n",
    "                y2 = y1+b_height\n",
    "                temp_coord = ImageCoord(x1, y1, b_width, b_height, i)\n",
    "            \n",
    "                check_result = False\n",
    "                for coord in inserted_image_coord:\n",
    "                    if coord.is_overlap(temp_coord):\n",
    "                        check_result = True\n",
    "                        fail_cnt += 1\n",
    "                        break\n",
    "\n",
    "                if fail_cnt >= fail_cnt_threshold:\n",
    "                    del temp_coord\n",
    "                    break\n",
    "            \n",
    "                if check_result:\n",
    "                    del temp_coord\n",
    "                    continue\n",
    "                \n",
    "                # B 이미지를 A 이미지 위에 붙이기\n",
    "                cnt += 1\n",
    "                image_a.paste(image_b, (x1, y1), image_b.convert(\"RGBA\"))\n",
    "                inserted_image_coord.append(temp_coord)\n",
    "\n",
    "        out_image_file_name = f\"{loop}_{base_image.split(\".\")[0]}\"\n",
    "        # 결과 이미지 저장\n",
    "        output_path = os.path.join(result_base_dir, out_image_file_name + \".jpg\")\n",
    "        image_a.save(output_path)\n",
    "    \n",
    "        # 좌표, 클래스 저장    \n",
    "        annotation_file_path = os.path.join(result_base_dir, out_image_file_name + \".txt\")\n",
    "        with open(annotation_file_path, 'w') as f:\n",
    "            for coord in inserted_image_coord:\n",
    "                # 좌표 기록\n",
    "                f.write(coord.get_VOLO_format())\n",
    "                f.write(\"\\n\")"
   ]
  },
  {
   "cell_type": "code",
   "execution_count": null,
   "id": "ad9fdd65-84aa-4bb8-b47a-b9863c9c43a4",
   "metadata": {},
   "outputs": [],
   "source": []
  }
 ],
 "metadata": {
  "kernelspec": {
   "display_name": "Python 3 (ipykernel)",
   "language": "python",
   "name": "python3"
  },
  "language_info": {
   "codemirror_mode": {
    "name": "ipython",
    "version": 3
   },
   "file_extension": ".py",
   "mimetype": "text/x-python",
   "name": "python",
   "nbconvert_exporter": "python",
   "pygments_lexer": "ipython3",
   "version": "3.12.2"
  }
 },
 "nbformat": 4,
 "nbformat_minor": 5
}
